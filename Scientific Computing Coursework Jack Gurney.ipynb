{
 "cells": [
  {
   "cell_type": "markdown",
   "id": "befc56da",
   "metadata": {},
   "source": [
    "# Scientific Computing Coursework"
   ]
  },
  {
   "cell_type": "markdown",
   "id": "f0fd657f",
   "metadata": {},
   "source": [
    "## Ode solvers"
   ]
  },
  {
   "cell_type": "markdown",
   "id": "513a9884",
   "metadata": {},
   "source": [
    "Starting with ODE solvers, I coded up a function called \"solve_to\" which takes an ODE and solves it using either the Euler Method or the Runga Kutta 4 method. The function created takes seven inputs with the first being the ODE. The first thing to note with this is that in every ODE and PDE that I coded up in a function, I added \"t\" as the first input even if there was no time variable in the actual equation. This is so that all my functions are consistent in case I end up with an ODE or PDE that does end up requiring time as an input. An input that i had to add later on down the line as i tried more complex functions was \"args\" which takes the arguments of the ODE that is inputted and passes them through the ODE in the function. This is useful as we want to use the ODE function in our solver and not just the ODE at a singular point. The figure below is showing a plot of both the Euler method and the Runga Kutta 4 method solving an   "
   ]
  },
  {
   "cell_type": "code",
   "execution_count": 2,
   "id": "fe4dc148",
   "metadata": {},
   "outputs": [
    {
     "ename": "ModuleNotFoundError",
     "evalue": "No module named 'IVPODES'",
     "output_type": "error",
     "traceback": [
      "\u001b[0;31m---------------------------------------------------------------------------\u001b[0m",
      "\u001b[0;31mModuleNotFoundError\u001b[0m                       Traceback (most recent call last)",
      "\u001b[0;32m/var/folders/06/3mw7w5957f72ll718m_df3gc0000gn/T/ipykernel_51278/3305256123.py\u001b[0m in \u001b[0;36m<module>\u001b[0;34m\u001b[0m\n\u001b[0;32m----> 1\u001b[0;31m \u001b[0;32mfrom\u001b[0m \u001b[0mIVPODES\u001b[0m\u001b[0;34m.\u001b[0m\u001b[0mpy\u001b[0m \u001b[0;32mimport\u001b[0m \u001b[0msolve_to\u001b[0m\u001b[0;34m,\u001b[0m \u001b[0mVan\u001b[0m\u001b[0;34m\u001b[0m\u001b[0;34m\u001b[0m\u001b[0m\n\u001b[0m\u001b[1;32m      2\u001b[0m \u001b[0;32mimport\u001b[0m \u001b[0mmatplotlib\u001b[0m\u001b[0;34m.\u001b[0m\u001b[0mpyplot\u001b[0m \u001b[0;32mas\u001b[0m \u001b[0mplt\u001b[0m\u001b[0;34m\u001b[0m\u001b[0;34m\u001b[0m\u001b[0m\n\u001b[1;32m      3\u001b[0m \u001b[0;32mimport\u001b[0m \u001b[0mnumpy\u001b[0m \u001b[0;32mas\u001b[0m \u001b[0mnp\u001b[0m\u001b[0;34m\u001b[0m\u001b[0;34m\u001b[0m\u001b[0m\n\u001b[1;32m      4\u001b[0m \u001b[0;34m\u001b[0m\u001b[0m\n",
      "\u001b[0;31mModuleNotFoundError\u001b[0m: No module named 'IVPODES'"
     ]
    }
   ],
   "source": [
    "from IVPODES.py import solve_to, Van\n",
    "import matplotlib.pyplot as plt\n",
    "import numpy as np\n",
    "\n"
   ]
  },
  {
   "cell_type": "code",
   "execution_count": null,
   "id": "08d00d02",
   "metadata": {},
   "outputs": [],
   "source": []
  }
 ],
 "metadata": {
  "kernelspec": {
   "display_name": "Python 3 (ipykernel)",
   "language": "python",
   "name": "python3"
  },
  "language_info": {
   "codemirror_mode": {
    "name": "ipython",
    "version": 3
   },
   "file_extension": ".py",
   "mimetype": "text/x-python",
   "name": "python",
   "nbconvert_exporter": "python",
   "pygments_lexer": "ipython3",
   "version": "3.9.13"
  }
 },
 "nbformat": 4,
 "nbformat_minor": 5
}
