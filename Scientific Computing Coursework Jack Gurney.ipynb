{
 "cells": [
  {
   "cell_type": "markdown",
   "id": "8673d4ee",
   "metadata": {},
   "source": [
    "# Scientific Computing Coursework"
   ]
  },
  {
   "cell_type": "markdown",
   "id": "6339b2ca",
   "metadata": {},
   "source": [
    "## Ode solvers"
   ]
  },
  {
   "cell_type": "markdown",
   "id": "0af07003",
   "metadata": {},
   "source": [
    "Starting with ODE solvers, I coded up a function called \"solve_to\" which takes an ODE and solves it using either the Euler Method or the Runga Kutta 4 method. The function created takes seven inputs with the first being the ODE. The first thing to note with this is that in every ODE and PDE that I coded up in a function, I added \"t\" as the first input even if there was no time variable in the actual equation. This is so that all my functions are consistent in case I end up with an ODE or PDE that does end up requiring time as an input. An input that i had to add later on down the line as i tried more complex functions was \"args\" which takes the arguments of the ODE that is inputted and passes them through the ODE in the function. This is useful as we want to use the ODE function in our solver and not just the ODE at a singular point. The figure below is showing a plot of both the Euler method and the Runga Kutta 4 method solving an   "
   ]
  },
  {
   "cell_type": "code",
   "execution_count": null,
   "id": "9e7684de",
   "metadata": {},
   "outputs": [],
   "source": [
    "from IVPODES.py import solve_to\n",
    "from matplotlib.pyplot import pl"
   ]
  }
 ],
 "metadata": {
  "kernelspec": {
   "display_name": "Python 3 (ipykernel)",
   "language": "python",
   "name": "python3"
  },
  "language_info": {
   "codemirror_mode": {
    "name": "ipython",
    "version": 3
   },
   "file_extension": ".py",
   "mimetype": "text/x-python",
   "name": "python",
   "nbconvert_exporter": "python",
   "pygments_lexer": "ipython3",
   "version": "3.9.13"
  }
 },
 "nbformat": 4,
 "nbformat_minor": 5
}
